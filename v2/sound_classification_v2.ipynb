{
  "nbformat": 4,
  "nbformat_minor": 0,
  "metadata": {
    "colab": {
      "name": "sound_classification_v2.ipynb",
      "provenance": [],
      "authorship_tag": "ABX9TyM2Zz6VaDkvd0kk0L+itoX5",
      "include_colab_link": true
    },
    "kernelspec": {
      "name": "python3",
      "display_name": "Python 3"
    }
  },
  "cells": [
    {
      "cell_type": "markdown",
      "metadata": {
        "id": "view-in-github",
        "colab_type": "text"
      },
      "source": [
        "<a href=\"https://colab.research.google.com/github/cyyeh/sound-classification-project/blob/master/v2/sound_classification_v2.ipynb\" target=\"_parent\"><img src=\"https://colab.research.google.com/assets/colab-badge.svg\" alt=\"Open In Colab\"/></a>"
      ]
    },
    {
      "cell_type": "markdown",
      "metadata": {
        "id": "DdqMsb3F8LBR",
        "colab_type": "text"
      },
      "source": [
        "# Sound Classification using UrbanSound8k Dataset"
      ]
    },
    {
      "cell_type": "code",
      "metadata": {
        "id": "Dq1Qjvm28H-n",
        "colab_type": "code",
        "colab": {}
      },
      "source": [
        ""
      ],
      "execution_count": null,
      "outputs": []
    }
  ]
}